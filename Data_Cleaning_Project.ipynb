{
  "nbformat": 4,
  "nbformat_minor": 0,
  "metadata": {
    "colab": {
      "provenance": []
    },
    "kernelspec": {
      "name": "python3",
      "display_name": "Python 3"
    },
    "language_info": {
      "name": "python"
    }
  },
  "cells": [
    {
      "cell_type": "markdown",
      "source": [
        "**Import Pandas**"
      ],
      "metadata": {
        "id": "GvIBQ03EcNCl"
      }
    },
    {
      "cell_type": "code",
      "execution_count": null,
      "metadata": {
        "id": "8EqHKeXiayae"
      },
      "outputs": [],
      "source": [
        "import pandas as pd"
      ]
    },
    {
      "cell_type": "markdown",
      "source": [
        "**Read CSV file without header**"
      ],
      "metadata": {
        "id": "5jvmVIkLcjcy"
      }
    },
    {
      "cell_type": "code",
      "source": [
        "df = pd.read_csv(\"pc_sales_2021.csv\", header=None)\n",
        "df.head()"
      ],
      "metadata": {
        "id": "Mh6rkLJWcauf"
      },
      "execution_count": null,
      "outputs": []
    },
    {
      "cell_type": "markdown",
      "source": [
        "**Turn a specific row into header row and drop that row**"
      ],
      "metadata": {
        "id": "OlphYxHvhEAC"
      }
    },
    {
      "cell_type": "code",
      "source": [
        "df.columns = df.iloc[2]\n",
        "df = df.drop(2)\n",
        "df.head()"
      ],
      "metadata": {
        "id": "NZYFBfOqeXkW"
      },
      "execution_count": null,
      "outputs": []
    },
    {
      "cell_type": "markdown",
      "source": [
        "**Drop the 0th row (it is just the headline)**"
      ],
      "metadata": {
        "id": "zxBqEY7tiRO7"
      }
    },
    {
      "cell_type": "code",
      "source": [
        "df = df.drop(0)\n",
        "df.head()"
      ],
      "metadata": {
        "id": "NCz1YL8oiQbN"
      },
      "execution_count": null,
      "outputs": []
    },
    {
      "cell_type": "markdown",
      "source": [
        "**Drop last two columns**"
      ],
      "metadata": {
        "id": "3fv1SiCBjB7-"
      }
    },
    {
      "cell_type": "code",
      "source": [
        "df = df.drop([\"2021/\\n2020\",\"2021/2019\"], axis = 1)\n",
        "df.head()"
      ],
      "metadata": {
        "id": "UacsDZrAjPZC"
      },
      "execution_count": null,
      "outputs": []
    },
    {
      "cell_type": "markdown",
      "source": [
        "**Drop rows where all values are NaN**"
      ],
      "metadata": {
        "id": "UhSkv3euklX_"
      }
    },
    {
      "cell_type": "code",
      "source": [
        "df = df.dropna(how='all')\n",
        "df.head()"
      ],
      "metadata": {
        "id": "WQsXP0FFk8pM"
      },
      "execution_count": null,
      "outputs": []
    },
    {
      "cell_type": "markdown",
      "source": [
        "**Check other null value**"
      ],
      "metadata": {
        "id": "yXKjEqw9DKlz"
      }
    },
    {
      "cell_type": "code",
      "source": [
        "df.isnull().any()"
      ],
      "metadata": {
        "id": "jAPHu0-ADH3s"
      },
      "execution_count": null,
      "outputs": []
    },
    {
      "cell_type": "markdown",
      "source": [
        "**Rename columns : Country, 2019, 2020, 2021**"
      ],
      "metadata": {
        "id": "f9_s2RXjn60E"
      }
    },
    {
      "cell_type": "code",
      "source": [
        "df = df.rename(columns={'REGIONS/COUNTRIES': 'Country', 'Q1-Q4 2019': '2019', 'Q1-Q4 2020': '2020', 'Q1-Q4 2021': '2021'})\n",
        "df.head()"
      ],
      "metadata": {
        "id": "rFzetnBSoQjs"
      },
      "execution_count": null,
      "outputs": []
    },
    {
      "cell_type": "markdown",
      "source": [
        "**View the whole table and make a list of entries under 'Country' that are not country**"
      ],
      "metadata": {
        "id": "SeW4qD2-FTDq"
      }
    },
    {
      "cell_type": "code",
      "source": [
        "pd.set_option('display.max_rows', None)\n",
        "df\n",
        "non_countries= [\"EUROPE\", \"EU 27 countries + EFTA + UK\", \"OTHER COUNTRIES\", \"RUSSIA, TURKEY & OTHER EUROPE\",\n",
        "                \"OTHER COUNTRIES/REGIONS \", \"AMERICA\", \"NAFTA\", \"CENTRAL & SOUTH AMERICA\",\n",
        "                \"ASIA/OCEANIA/MIDDLE EAST\", \"ASEAN\",  \"AFRICA\",\n",
        "                \"ALL COUNTRIES/REGIONS\", \"TOTAL OICA MEMBERS \"]"
      ],
      "metadata": {
        "id": "q-paiy5sFnlN"
      },
      "execution_count": null,
      "outputs": []
    },
    {
      "cell_type": "markdown",
      "source": [
        "**Delete the rows that have any of the items of 'non_countries' list**"
      ],
      "metadata": {
        "id": "rOUP6mw9b5Ob"
      }
    },
    {
      "cell_type": "code",
      "source": [
        "df = df[~df['Country'].isin(non_countries)]\n",
        "df.head()"
      ],
      "metadata": {
        "id": "GvRiBpzhIQla"
      },
      "execution_count": null,
      "outputs": []
    },
    {
      "cell_type": "markdown",
      "source": [
        "**Capitalize only the first letter of each country**"
      ],
      "metadata": {
        "id": "Up5p5DpYNF6Y"
      }
    },
    {
      "cell_type": "code",
      "source": [
        "df.loc[:, 'Country'] = df[\"Country\"].str.title()\n",
        "df.head()"
      ],
      "metadata": {
        "id": "NTmAl6t1NLdH"
      },
      "execution_count": null,
      "outputs": []
    },
    {
      "cell_type": "markdown",
      "source": [
        "**Remove all leading and trailing spaces & everything other than capital letters, small letters, and blank spaces (in country column)**"
      ],
      "metadata": {
        "id": "cUPvUJ3YOZTV"
      }
    },
    {
      "cell_type": "code",
      "source": [
        "df.loc[:, 'Country'] = df['Country'].str.replace(r'[^a-zA-Z\\s]', '', regex=True)\n",
        "df = df.applymap(lambda x: x.strip() if isinstance(x, str) else x)\n",
        "df"
      ],
      "metadata": {
        "id": "RW2WQQRBOmNl"
      },
      "execution_count": null,
      "outputs": []
    },
    {
      "cell_type": "markdown",
      "source": [
        "**Rename United States Of America**"
      ],
      "metadata": {
        "id": "kDeY_Ar9RgTu"
      }
    },
    {
      "cell_type": "code",
      "source": [
        "df.loc[df['Country'] == 'United States Of America', 'Country'] = 'United States of America'"
      ],
      "metadata": {
        "id": "dlOhveNLRj3B"
      },
      "execution_count": null,
      "outputs": []
    },
    {
      "cell_type": "code",
      "source": [
        "df"
      ],
      "metadata": {
        "id": "EtxIO-l4dq0K"
      },
      "execution_count": null,
      "outputs": []
    },
    {
      "cell_type": "markdown",
      "source": [
        "**Remove commas**"
      ],
      "metadata": {
        "id": "wuMr70ENgQJi"
      }
    },
    {
      "cell_type": "code",
      "source": [
        "df['2019'] = df['2019'].str.replace(',', '')\n",
        "df['2020'] = df['2020'].str.replace(',', '')\n",
        "df['2021'] = df['2021'].str.replace(',', '')\n",
        "df.head()"
      ],
      "metadata": {
        "id": "4PZ69txWf0gk"
      },
      "execution_count": null,
      "outputs": []
    },
    {
      "cell_type": "markdown",
      "source": [
        "**Change Datatypes**"
      ],
      "metadata": {
        "id": "-i-0lj2zhhRM"
      }
    },
    {
      "cell_type": "code",
      "source": [
        "df = df.astype({\"2019\":\"int\", \"2020\":\"int\", \"2021\":\"int\"})\n",
        "df.dtypes"
      ],
      "metadata": {
        "id": "XPqHZB5lgXTy"
      },
      "execution_count": null,
      "outputs": []
    },
    {
      "cell_type": "markdown",
      "source": [
        "**Sort by Country (Ascending)**"
      ],
      "metadata": {
        "id": "-Ao7K0FsiP98"
      }
    },
    {
      "cell_type": "code",
      "source": [
        "df.sort_values(by=['Country'])\n",
        "df.head()"
      ],
      "metadata": {
        "id": "mL4C0NOgiFuP"
      },
      "execution_count": null,
      "outputs": []
    },
    {
      "cell_type": "markdown",
      "source": [
        "**Download the cleaned CSV file**"
      ],
      "metadata": {
        "id": "WLxbxI_abdvb"
      }
    },
    {
      "cell_type": "code",
      "source": [
        "df.to_csv('cleandata.csv', index=False)"
      ],
      "metadata": {
        "id": "kjHRoIZfakrF"
      },
      "execution_count": null,
      "outputs": []
    }
  ]
}